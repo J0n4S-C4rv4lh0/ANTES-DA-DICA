{
  "nbformat": 4,
  "nbformat_minor": 0,
  "metadata": {
    "colab": {
      "provenance": [],
      "authorship_tag": "ABX9TyOQNd0qNgKf6AXGnnbj9Enn",
      "include_colab_link": true
    },
    "kernelspec": {
      "name": "python3",
      "display_name": "Python 3"
    },
    "language_info": {
      "name": "python"
    }
  },
  "cells": [
    {
      "cell_type": "markdown",
      "metadata": {
        "id": "view-in-github",
        "colab_type": "text"
      },
      "source": [
        "<a href=\"https://colab.research.google.com/github/J0n4S-C4rv4lh0/ANTES-DA-DICA/blob/main/POO_30AGO24.ipynb\" target=\"_parent\"><img src=\"https://colab.research.google.com/assets/colab-badge.svg\" alt=\"Open In Colab\"/></a>"
      ]
    },
    {
      "cell_type": "markdown",
      "source": [
        "EX1) Converter F para C obs: Entrada F processamento: C = (5/9)(F-32) Saida: C"
      ],
      "metadata": {
        "id": "vSQqWN7lfNbA"
      }
    },
    {
      "cell_type": "code",
      "execution_count": 1,
      "metadata": {
        "id": "KJr7PmxEeXsL",
        "colab": {
          "base_uri": "https://localhost:8080/"
        },
        "outputId": "b6ed1229-35fb-44ef-cee4-53f8dfc3b327"
      },
      "outputs": [
        {
          "output_type": "stream",
          "name": "stdout",
          "text": [
            "Digite valor em Graus Farenheit: 32\n",
            "Graus Celsius:  0.0\n"
          ]
        }
      ],
      "source": [
        "F = float(input(\"Digite valor em Graus Farenheit: \"))\n",
        "C=(5/9) * (F-32)\n",
        "print(\"Graus Celsius: \", C)"
      ]
    },
    {
      "cell_type": "markdown",
      "source": [
        "METODO PRINTF\n",
        "print(f\" \") se coloca o f no começo dos parenteses e antes das aspas e tem que colocar a variavel em {F} para aparecer na mensagem"
      ],
      "metadata": {
        "id": "8md_rnwUgwGE"
      }
    },
    {
      "cell_type": "code",
      "source": [
        "F = float(input(\"Digite valor em Graus Farenheit: \"))\n",
        "C=(5/9) * (F-32)\n",
        "print(f\"o valor de {F} em Graus Celsius: \", C)"
      ],
      "metadata": {
        "colab": {
          "base_uri": "https://localhost:8080/"
        },
        "id": "f95EOhHnglDV",
        "outputId": "b4513d61-ba62-4bef-a09e-a88c5b45e9df"
      },
      "execution_count": 3,
      "outputs": [
        {
          "output_type": "stream",
          "name": "stdout",
          "text": [
            "Digite valor em Graus Farenheit: 50\n",
            "o valor de 50.0 em Graus Celsius:  10.0\n"
          ]
        }
      ]
    },
    {
      "cell_type": "markdown",
      "source": [
        "EX2) Converter Polegadas para mm\n",
        "Entrada: P\n",
        "Processamento: MM = P * 25.4\n",
        "Saida: MM"
      ],
      "metadata": {
        "id": "01AtEIbLjshY"
      }
    },
    {
      "cell_type": "code",
      "source": [
        "P = float(input(\"Digite valor em Polegadas: \"))\n",
        "MM = P * 25.4\n",
        "print(f\"O valor de {P} Polegadas corresponde ao valor de {MM} mm\")"
      ],
      "metadata": {
        "colab": {
          "base_uri": "https://localhost:8080/"
        },
        "id": "6paXiOX3kAd8",
        "outputId": "2402fe18-6b51-438b-c1a5-70cf8fa081f0"
      },
      "execution_count": 7,
      "outputs": [
        {
          "output_type": "stream",
          "name": "stdout",
          "text": [
            "Digite valor em Polegadas: 50\n",
            "O valor de 50.0 Polegadas corresponde ao valor de 1270.0 mm\n"
          ]
        }
      ]
    },
    {
      "cell_type": "markdown",
      "source": [
        "EX3) Converter Milimetros para Polegadas\n",
        "Entrada: MM\n",
        "Processamento: P = MM / 25.4\n",
        "Saida: P"
      ],
      "metadata": {
        "id": "ros1xQlXlp6o"
      }
    },
    {
      "cell_type": "code",
      "source": [
        "MM = float(input(\"Digite valor em Polegadas: \"))\n",
        "P = MM / 25.4\n",
        "print(f\"O valor de {MM} Milímetros corresponde ao valor de {P} Polegadas\")"
      ],
      "metadata": {
        "colab": {
          "base_uri": "https://localhost:8080/"
        },
        "id": "BF3CLt4fl4GG",
        "outputId": "f7cdd6eb-07a3-4dad-d40c-d1c821726b62"
      },
      "execution_count": 8,
      "outputs": [
        {
          "output_type": "stream",
          "name": "stdout",
          "text": [
            "Digite valor em Polegadas: 1270\n",
            "O valor de 1270.0 Milímetros corresponde ao valor de 50.0 Polegadas\n"
          ]
        }
      ]
    },
    {
      "cell_type": "markdown",
      "source": [
        "EX4 Solicitar a idade do Usuario\n",
        "Entrada: Idade\n",
        "Processamento: <= 16 e < 70\n",
        "Saida: \"Pode votar ou não\""
      ],
      "metadata": {
        "id": "I10I8dJkmjJB"
      }
    },
    {
      "cell_type": "code",
      "source": [
        "I = int(input(\"Digite a sua idade: \"))\n",
        "\n",
        "if 16 <= I < 70:\n",
        "    print(f\"A sua Idade {I} anos esta na Faixa etaria de 16 a 70 anos. \")\n",
        "else:\n",
        "    print(f\"A sua Idade {I} anos esta fora da Faixa etaria de 16 a 70 anos. \")"
      ],
      "metadata": {
        "colab": {
          "base_uri": "https://localhost:8080/"
        },
        "id": "8YoY8aVinOcI",
        "outputId": "3bbb3c6c-835a-4080-b039-e12e6df486b6"
      },
      "execution_count": 14,
      "outputs": [
        {
          "output_type": "stream",
          "name": "stdout",
          "text": [
            "Digite a sua idade: 18\n",
            "A sua Idade 18 anos esta na Faixa etaria de 16 a 70 anos. \n"
          ]
        }
      ]
    },
    {
      "cell_type": "code",
      "source": [
        "I = int(input(\"Digite a sua idade: \"))\n",
        "\n",
        "if I >= 18:\n",
        "    print(\"Pode Votar\")\n",
        "else:\n",
        "    print(\"Não Pode Votar\")"
      ],
      "metadata": {
        "colab": {
          "base_uri": "https://localhost:8080/"
        },
        "id": "tNWZ_IC5pj3P",
        "outputId": "df9fb26d-3586-445b-9349-2d9776cdd0c7"
      },
      "execution_count": 17,
      "outputs": [
        {
          "output_type": "stream",
          "name": "stdout",
          "text": [
            "Digite a sua idade: 18\n",
            "Pode Votar\n"
          ]
        }
      ]
    }
  ]
}